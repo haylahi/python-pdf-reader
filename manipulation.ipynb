{
 "cells": [
  {
   "cell_type": "code",
   "execution_count": 1,
   "metadata": {
    "collapsed": true
   },
   "outputs": [],
   "source": [
    "from src.extracter import Extracter"
   ]
  },
  {
   "cell_type": "code",
   "execution_count": 2,
   "metadata": {
    "collapsed": false
   },
   "outputs": [],
   "source": [
    "import glob\n",
    "import os\n",
    "import src.tools.myconfig as config\n",
    "import shutil\n",
    "import subprocess"
   ]
  },
  {
   "cell_type": "code",
   "execution_count": 3,
   "metadata": {
    "collapsed": true
   },
   "outputs": [],
   "source": [
    "extracter = Extracter()"
   ]
  },
  {
   "cell_type": "code",
   "execution_count": 4,
   "metadata": {
    "collapsed": false
   },
   "outputs": [],
   "source": [
    "for pdf_file in glob.glob(os.path.join(config.PDF_DIR, '*.pdf')):\n",
    "    csv_file = os.path.join(\n",
    "        config.CSV_DIR, \n",
    "        '{}.csv'.format(os.path.basename(pdf_file)[:-4])\n",
    "    )\n",
    "    if not (os.path.isfile(csv_file)):\n",
    "        extracter.tabula(pdf_file, csv_file)"
   ]
  },
  {
   "cell_type": "code",
   "execution_count": 5,
   "metadata": {
    "collapsed": false
   },
   "outputs": [
    {
     "name": "stdout",
     "output_type": "stream",
     "text": [
      "TOTAL : 260\n",
      "DIRTY : 182\n"
     ]
    }
   ],
   "source": [
    "empty_csv_files = []\n",
    "\n",
    "for csv_file in sorted(glob.glob(os.path.join(config.CSV_DIR, '*.csv'))):\n",
    "    if os.path.getsize(csv_file) == 0:\n",
    "        empty_csv_files.append(csv_file)"
   ]
  },
  {
   "cell_type": "code",
   "execution_count": 11,
   "metadata": {
    "collapsed": false
   },
   "outputs": [],
   "source": [
    "if not (os.path.isdir(config.ERROR_PDF_DIR)):\n",
    "    os.mkdir(config.ERROR_PDF_DIR)\n",
    "if not (os.path.isdir(config.OCR_PDF_DIR)):\n",
    "    os.mkdir(config.OCR_PDF_DIR)\n",
    "if not (os.path.isdir(config.OCR_CSV_DIR)):\n",
    "    os.mkdir(config.OCR_CSV_DIR)\n",
    "\n",
    "for csv_file in empty_csv_files:\n",
    "    filename = os.path.basename(csv_file)[:-4]\n",
    "    pdf_file = os.path.join(config.PDF_DIR, '{}.pdf'.format(filename))\n",
    "    old_ocr_pdf_file = os.path.join(config.PDF_DIR, '{}_ocr.pdf'.format(filename))\n",
    "    ocr_pdf_file = os.path.join(config.OCR_PDF_DIR, '{}.pdf'.format(filename))\n",
    "    ocr_csv_file = os.path.join(config.OCR_CSV_DIR, '{}.csv'.format(filename))\n",
    "    \n",
    "    if os.path.isfile(ocr_csv_file):\n",
    "        continue\n",
    "    \n",
    "    try:\n",
    "        subprocess.check_call(['pypdfocr', '{}'.format(pdf_file)])\n",
    "    except subprocess.CalledProcessError:\n",
    "        shutil.copy2(\n",
    "            pdf_file, \n",
    "            os.path.join(config.ERROR_PDF_DIR, '{}.pdf'.format(filename))\n",
    "        )\n",
    "        continue\n",
    "    shutil.move(old_ocr_pdf_file, ocr_pdf_file)\n",
    "    if not (os.path.isfile(ocr_csv_file)):\n",
    "        extracter.tabula(ocr_pdf_file, ocr_csv_file)"
   ]
  },
  {
   "cell_type": "code",
   "execution_count": null,
   "metadata": {
    "collapsed": true
   },
   "outputs": [],
   "source": [
    "csv_files_list = glob.glob(os.path.join(config.CSV_DIR, '*.csv'))\n",
    "print('TOTAL : {}'.format(len(csv_files_list)))\n",
    "print('DIRTY : {}'.format(len(empty_csv_files)))\n",
    "ocred_csv_files = glob.glob(os.path.join(config.OCR_CSV_DIR, '*.csv'))\n",
    "print('OCRed : {}'.format(len(ocred_csv_files)))\n",
    "pblms_list = [csv_file for csv_file in ocred_csv_files\n",
    "                       if os.path.getsize(csv_file) == 0]\n",
    "print('Pblms : {} ({})'.format(len(pblms_list),\n",
    "                               100*len(pblms_list)/len(csv_files_list))"
   ]
  }
 ],
 "metadata": {
  "kernelspec": {
   "display_name": "Python [Root]",
   "language": "python",
   "name": "Python [Root]"
  },
  "language_info": {
   "codemirror_mode": {
    "name": "ipython",
    "version": 2
   },
   "file_extension": ".py",
   "mimetype": "text/x-python",
   "name": "python",
   "nbconvert_exporter": "python",
   "pygments_lexer": "ipython2",
   "version": "2.7.12"
  }
 },
 "nbformat": 4,
 "nbformat_minor": 0
}
